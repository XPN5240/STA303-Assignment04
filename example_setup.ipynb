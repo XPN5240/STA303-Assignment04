{
 "cells": [
  {
   "cell_type": "code",
   "execution_count": 2,
   "id": "0ae92fd0-d47c-4287-8d92-fe0b4cabf183",
   "metadata": {
    "tags": []
   },
   "outputs": [
    {
     "name": "stdout",
     "output_type": "stream",
     "text": [
      "############################## ConfTr #########################\n",
      "Result--Coverage_rate: 0.9922, Average_size: 1.7658\n"
     ]
    }
   ],
   "source": [
    "!python conformal_training.py"
   ]
  },
  {
   "cell_type": "code",
   "execution_count": 5,
   "id": "9b866abb-8bd4-4a18-b329-a0a9cb839f5b",
   "metadata": {},
   "outputs": [
    {
     "name": "stdout",
     "output_type": "stream",
     "text": [
      "############################## ConfTr #########################\n",
      "Result--Coverage_rate: 0.9926, Average_size: 2.2834\n"
     ]
    }
   ],
   "source": [
    "!python ct1_APS.py"
   ]
  },
  {
   "cell_type": "code",
   "execution_count": 10,
   "id": "d918751c-a0fe-4e38-97ed-5c24f9b8c7d4",
   "metadata": {
    "tags": []
   },
   "outputs": [
    {
     "name": "stdout",
     "output_type": "stream",
     "text": [
      "############################## ConfTr #########################\n",
      "Result--Coverage_rate: 0.9924, Average_size: 3.1218\n"
     ]
    }
   ],
   "source": [
    "!python ct1_RAPS.py"
   ]
  },
  {
   "cell_type": "code",
   "execution_count": 11,
   "id": "2a725735-b62f-41c6-9c95-1656a283f307",
   "metadata": {
    "tags": []
   },
   "outputs": [
    {
     "name": "stdout",
     "output_type": "stream",
     "text": [
      "############################## ConfTr #########################\n",
      "Result--Coverage_rate: 0.9918, Average_size: 1.9548\n"
     ]
    }
   ],
   "source": [
    "!python ct1_SAPS.py"
   ]
  },
  {
   "cell_type": "code",
   "execution_count": 12,
   "id": "b4271933-ee98-4d85-94ae-d92f9d4d998b",
   "metadata": {
    "tags": []
   },
   "outputs": [
    {
     "name": "stdout",
     "output_type": "stream",
     "text": [
      "Files already downloaded and verified\n",
      "Files already downloaded and verified\n",
      "############################## ConfTr #########################\n",
      "Result--Coverage_rate: 0.9868, Average_size: 4.5274\n"
     ]
    }
   ],
   "source": [
    "!python ct2_THR.py"
   ]
  },
  {
   "cell_type": "code",
   "execution_count": 1,
   "id": "283bbba3-f686-478d-b1c6-056e1414d9ac",
   "metadata": {
    "tags": []
   },
   "outputs": [
    {
     "name": "stdout",
     "output_type": "stream",
     "text": [
      "Files already downloaded and verified\n",
      "Files already downloaded and verified\n",
      "############################## ConfTr #########################\n",
      "Result--Coverage_rate: 0.9898, Average_size: 5.1442\n"
     ]
    }
   ],
   "source": [
    "!python ct2_APS.py"
   ]
  },
  {
   "cell_type": "code",
   "execution_count": 2,
   "id": "12424035-3513-4808-83de-03a4d356154c",
   "metadata": {},
   "outputs": [
    {
     "name": "stdout",
     "output_type": "stream",
     "text": [
      "Files already downloaded and verified\n",
      "Files already downloaded and verified\n",
      "############################## ConfTr #########################\n",
      "Result--Coverage_rate: 0.9906, Average_size: 6.2498\n"
     ]
    }
   ],
   "source": [
    "!python ct2_RAPS.py"
   ]
  },
  {
   "cell_type": "code",
   "execution_count": 3,
   "id": "111e43f8-f0e5-4174-8708-a8610baf9f1f",
   "metadata": {
    "tags": []
   },
   "outputs": [
    {
     "name": "stdout",
     "output_type": "stream",
     "text": [
      "Files already downloaded and verified\n",
      "Files already downloaded and verified\n",
      "############################## ConfTr #########################\n",
      "Result--Coverage_rate: 0.9876, Average_size: 5.574\n"
     ]
    }
   ],
   "source": [
    "!python ct2_SAPS.py"
   ]
  },
  {
   "cell_type": "code",
   "execution_count": null,
   "id": "f9dc796c-8f32-4fa2-bb90-e24f5232629b",
   "metadata": {},
   "outputs": [],
   "source": []
  }
 ],
 "metadata": {
  "kernelspec": {
   "display_name": "ass4",
   "language": "python",
   "name": "ass4"
  },
  "language_info": {
   "codemirror_mode": {
    "name": "ipython",
    "version": 3
   },
   "file_extension": ".py",
   "mimetype": "text/x-python",
   "name": "python",
   "nbconvert_exporter": "python",
   "pygments_lexer": "ipython3",
   "version": "3.11.7"
  }
 },
 "nbformat": 4,
 "nbformat_minor": 5
}
